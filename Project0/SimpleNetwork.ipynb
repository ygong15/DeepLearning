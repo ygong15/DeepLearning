{
 "cells": [
  {
   "cell_type": "markdown",
   "metadata": {},
   "source": [
    "# Making Predictions\n",
    "### some questions\n",
    "    - does python allows for duplicate named variables or it is something about Jupyter\n",
    "    - figure out what does assert() outputs (return true false? terminate fucntion?)\n",
    "    - python list.insert() v.s. list.append()\n",
    "    - how to show line number !!!\n",
    "    "
   ]
  },
  {
   "cell_type": "code",
   "execution_count": 4,
   "metadata": {},
   "outputs": [],
   "source": [
    "# import numpy\n",
    "import numpy as np"
   ]
  },
  {
   "cell_type": "markdown",
   "metadata": {},
   "source": [
    "a neural network on a single input"
   ]
  },
  {
   "cell_type": "code",
   "execution_count": 7,
   "metadata": {},
   "outputs": [
    {
     "name": "stdout",
     "output_type": "stream",
     "text": [
      "0.8500000000000001\n"
     ]
    }
   ],
   "source": [
    "weight = 0.1\n",
    "def neural_network_single(input, weight):\n",
    "    prediction = input * weight\n",
    "    return prediction\n",
    "number_of_toes = [8.5, 9.5, 10, 9]\n",
    "pred = neural_network_single(number_of_toes[0], weight)\n",
    "print(pred)"
   ]
  },
  {
   "cell_type": "markdown",
   "metadata": {},
   "source": [
    "a neural network on multiple input"
   ]
  },
  {
   "cell_type": "code",
   "execution_count": 8,
   "metadata": {},
   "outputs": [
    {
     "name": "stdout",
     "output_type": "stream",
     "text": [
      "0.9800000000000001\n"
     ]
    }
   ],
   "source": [
    "# helper function sums up the multiple of each input with its associated value in the network\n",
    "def w_sum(input, weight):\n",
    "    # has to be the same size or garbage result\n",
    "    assert(len(input) == len(weight))\n",
    "    output = 0\n",
    "    for i in range(len(input)):\n",
    "        output += input[i] * weight[i]\n",
    "    return output\n",
    "# main function\n",
    "weight = [0.1, 0.2, 0]\n",
    "def neural_network_mult(input, weight):\n",
    "    pred = w_sum(input, weight)\n",
    "    return pred\n",
    "# some attributes\n",
    "toes = [8.5, 9.5, 9.9, 9.0]\n",
    "wlrec = [0.65, 0.8, 0.8, 0.9] \n",
    "nfans = [1.2, 1.3, 0.5, 1.0]\n",
    "# sample input\n",
    "input = [toes[0], wlrec[0], nfans[0]]\n",
    "pred = neural_network_mult(input, weight)\n",
    "print(pred)"
   ]
  },
  {
   "cell_type": "markdown",
   "metadata": {},
   "source": [
    "practices for some basic vector operations (all elementwise)"
   ]
  },
  {
   "cell_type": "code",
   "execution_count": 16,
   "metadata": {},
   "outputs": [
    {
     "name": "stdout",
     "output_type": "stream",
     "text": [
      "0.9800000000000001\n"
     ]
    }
   ],
   "source": [
    "# multiplication\n",
    "def elementwise_multiplication(vec_a, vec_b):\n",
    "    assert(len(vec_a) == len(vec_b))\n",
    "    output = []\n",
    "    for i in range(len(vec_a)):\n",
    "        output.append(vec_a[i] * vec_b[i])\n",
    "    return output\n",
    "# addition\n",
    "def elementwise_addition(vec_a, vec_b):\n",
    "    assert(len(vec_a) == len(vec_b))\n",
    "    output = []\n",
    "    for i in range(len(vec_a)):\n",
    "        output.append(vec_a[i] + vec_b[i])\n",
    "    return output\n",
    "# sum\n",
    "def vector_sum(vec_a):\n",
    "    output = 0\n",
    "    for i in range(len(vec_a)):\n",
    "        output += vec_a[i]\n",
    "    return output\n",
    "# average\n",
    "def average(vec_a):\n",
    "    sumVal = vector_sum(vec_a)\n",
    "    sumVal /= len(vec_a)\n",
    "    return sumVal\n",
    "# dot product\n",
    "def dot_product(vec_a, vec_b):\n",
    "    mult = elementwise_multiplication(vec_a, vec_b)\n",
    "    return vector_sum(mult)\n",
    "# testing field\n",
    "vec_a = [8.5, 0.65, 1.2]\n",
    "vec_b = [0.1, 0.2, 0]\n",
    "print(dot_product(vec_a, vec_b)) # should be the same result as the above code block"
   ]
  },
  {
   "cell_type": "markdown",
   "metadata": {},
   "source": [
    "## A numpy version of what we just did"
   ]
  },
  {
   "cell_type": "code",
   "execution_count": 18,
   "metadata": {},
   "outputs": [
    {
     "name": "stdout",
     "output_type": "stream",
     "text": [
      "0.9800000000000001\n"
     ]
    }
   ],
   "source": [
    "import numpy as np\n",
    "def neural_network(input, weight):\n",
    "    return input.dot(weight)\n",
    "weight = np.array([0.1, 0.2, 0])\n",
    "toes = np.array([8.5, 9.5, 9.9, 9.0])\n",
    "wlrec = np.array([0.65, 0.8, 0.8, 0.9] )\n",
    "nfans = np.array([1.2, 1.3, 0.5, 1.0])\n",
    "input = np.array([toes[0], wlrec[0], nfans[0]])\n",
    "print(neural_network(input, weight))"
   ]
  },
  {
   "cell_type": "markdown",
   "metadata": {},
   "source": [
    "# What is dot product\n",
    "- purpose\n",
    "    - compare the level of similarities between two vectors\n",
    "        - the more a index in vec_a overlaps its corresponding index in vec_b, the higher\n",
    "          that index's multiplication is\n",
    "        - sum just convey the overview of the entirety\n",
    "- this lead us to the important point on how to read a neural netwok, see p.54 on how to understand a neural network using its weight"
   ]
  },
  {
   "cell_type": "markdown",
   "metadata": {},
   "source": [
    "### making multiple output\n",
    "instead of returning a dot product of two vectors, we return a vector of each weight times the input value"
   ]
  },
  {
   "cell_type": "code",
   "execution_count": 2,
   "metadata": {},
   "outputs": [
    {
     "name": "stdout",
     "output_type": "stream",
     "text": [
      "[0.195, 0.13, 0.5850000000000001]\n"
     ]
    }
   ],
   "source": [
    "weights = [0.3, 0.2, 0.9]\n",
    "def ele_mul(number, weights):\n",
    "    output = []\n",
    "    for i in range(len(weights)):\n",
    "        output.append(weights[i] * number)\n",
    "    return output\n",
    "def neural_network(input, weight):\n",
    "    return ele_mul(input, weight)\n",
    "wlrec = [0.65, 0.8, 0.8, 0.9] \n",
    "print (neural_network(wlrec[0], weights))"
   ]
  },
  {
   "cell_type": "markdown",
   "metadata": {},
   "source": [
    "## Predicting with multiple inputs and outputs\n",
    "- weights become a matrix\n",
    "- vector-matrix multiplication:\n",
    "    - you take a vector and perform a dot product with every row in a matrix"
   ]
  },
  {
   "cell_type": "code",
   "execution_count": 35,
   "metadata": {},
   "outputs": [],
   "source": [
    "import numpy as np\n",
    "weights = np.array([[0.1, 0.1, -0.3], [0.1, 0.2, 0.0], [0.0, 1.3, 0.1]])\n",
    "# returns the dot product of two vectors\n",
    "def w_sum(a,b):\n",
    "    output = 0\n",
    "    assert(len(a) == len(b))\n",
    "    for i in range(len(a)):\n",
    "        output += a[i] * b[i]\n",
    "    return output\n",
    "# iterate through the matrix so each neural (a vector that has values for each category) produces a dot product\n",
    "def vect_mat_mul(vect, matrix):\n",
    "    assert(len(vect) == len(matrix))\n",
    "    output = [0,0,0]\n",
    "    for i in range(len(matrix)):\n",
    "        output[i] = w_sum(vect, matrix[i])\n",
    "    return output\n",
    "# wrapper\n",
    "def neural_network(input, weights):\n",
    "    return vect_mat_mul(input, weights)"
   ]
  },
  {
   "cell_type": "markdown",
   "metadata": {},
   "source": [
    "### a numpty version\n",
    "Note that we need to transform the weight matrix since dot() perform traditional matrix multiplication\n",
    "\n",
    "this shortcut works because it is a 3x3 matrix"
   ]
  },
  {
   "cell_type": "code",
   "execution_count": 45,
   "metadata": {},
   "outputs": [
    {
     "name": "stdout",
     "output_type": "stream",
     "text": [
      "[0.2135 0.145  0.5065]\n"
     ]
    }
   ],
   "source": [
    "import numpy as np\n",
    "\n",
    "def neural_network(input, weights):\n",
    "    hid = np.dot(input, weights[0].T)\n",
    "    pred = np.dot(hid, weights[1].T)\n",
    "    return pred\n",
    "\n",
    "ih_wgt = np.array([\n",
    "    [0.1, 0.2, -0.1],\n",
    "    [-0.1, 0.1, 0.9],\n",
    "    [0.1, 0.4, 0.1]])\n",
    "\n",
    "hp_wgt = np.array([\n",
    "    [0.3, 1.1, -0.3],\n",
    "    [0.1, 0.2, 0.0],\n",
    "    [0.0, 1.3, 0.1]\n",
    "])\n",
    "\n",
    "weights = [ih_wgt, hp_wgt]\n",
    "\n",
    "toes = np.array([8.5, 9.5, 9.9, 9.0])\n",
    "wlrec = np.array([0.65, 0.8, 0.8, 0.9])\n",
    "nfans = np.array([1.2, 1.3, 0.5, 1.0])\n",
    "\n",
    "input = np.array([toes[0], wlrec[0], nfans[0]])\n",
    "\n",
    "pred = neural_network(input, weights)\n",
    "\n",
    "print(pred) "
   ]
  },
  {
   "cell_type": "markdown",
   "metadata": {},
   "source": [
    "## Dot Product & Matrix Multiplication\n",
    "- A DOT B\n",
    "    - A's row times B's column"
   ]
  }
 ],
 "metadata": {
  "kernelspec": {
   "display_name": "Python 3",
   "language": "python",
   "name": "python3"
  },
  "language_info": {
   "codemirror_mode": {
    "name": "ipython",
    "version": 3
   },
   "file_extension": ".py",
   "mimetype": "text/x-python",
   "name": "python",
   "nbconvert_exporter": "python",
   "pygments_lexer": "ipython3",
   "version": "3.10.9"
  },
  "orig_nbformat": 4
 },
 "nbformat": 4,
 "nbformat_minor": 2
}
